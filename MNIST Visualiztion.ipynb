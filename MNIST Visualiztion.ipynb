{
 "cells": [
  {
   "cell_type": "code",
   "execution_count": 1,
   "metadata": {
    "collapsed": true,
    "deletable": true,
    "editable": true
   },
   "outputs": [],
   "source": [
    "from collections import OrderedDict\n",
    "\n",
    "import numpy as np\n",
    "import pandas as pd\n",
    "import tensorflow as tf\n",
    "\n",
    "from ipywidgets import *\n",
    "from bqplot import *\n",
    "import bqplot.pyplot as plt\n",
    "\n",
    "from tensorflow.contrib.learn.python.learn.datasets.mnist import read_data_sets"
   ]
  },
  {
   "cell_type": "code",
   "execution_count": 2,
   "metadata": {
    "collapsed": false,
    "deletable": true,
    "editable": true
   },
   "outputs": [
    {
     "name": "stdout",
     "output_type": "stream",
     "text": [
      "Extracting data/train-images-idx3-ubyte.gz\n",
      "Extracting data/train-labels-idx1-ubyte.gz\n",
      "Extracting data/t10k-images-idx3-ubyte.gz\n",
      "Extracting data/t10k-labels-idx1-ubyte.gz\n"
     ]
    }
   ],
   "source": [
    "mnist = read_data_sets('data', one_hot=False, reshape=True, validation_size=0)"
   ]
  },
  {
   "cell_type": "code",
   "execution_count": 3,
   "metadata": {
    "collapsed": false,
    "deletable": true,
    "editable": true
   },
   "outputs": [],
   "source": [
    "n = 1000\n",
    "X = mnist.test.images[:n]\n",
    "labels = mnist.test.labels[:n]"
   ]
  },
  {
   "cell_type": "code",
   "execution_count": 4,
   "metadata": {
    "collapsed": false,
    "deletable": true,
    "editable": true
   },
   "outputs": [
    {
     "name": "stdout",
     "output_type": "stream",
     "text": [
      "PCA done\n",
      "MDS done\n"
     ]
    }
   ],
   "source": [
    "from sklearn.decomposition import PCA\n",
    "from sklearn.manifold import MDS, TSNE\n",
    "    \n",
    "pca = PCA(n_components=2)\n",
    "X_pca = pca.fit_transform(X)\n",
    "print('PCA done')\n",
    "\n",
    "mds = MDS(n_components=2)\n",
    "X_mds = mds.fit_transform(X)\n",
    "print('MDS done')\n",
    "\n",
    "# tsne = TSNE(n_components=2, init='pca')\n",
    "# X_tsne = tsne.fit_transform(X1)\n",
    "# print('TSNE done')"
   ]
  },
  {
   "cell_type": "code",
   "execution_count": 6,
   "metadata": {
    "collapsed": false,
    "deletable": true,
    "editable": true
   },
   "outputs": [],
   "source": [
    "data_map = OrderedDict({'PCA': X_pca,\n",
    "                        'MDS': X_mds})"
   ]
  },
  {
   "cell_type": "code",
   "execution_count": 7,
   "metadata": {
    "collapsed": false,
    "deletable": true,
    "editable": true,
    "scrolled": false
   },
   "outputs": [
    {
     "data": {
      "application/vnd.jupyter.widget-view+json": {
       "model_id": "3adba75b6846432187056ebea597639a",
       "version_major": 2,
       "version_minor": 0
      },
      "text/plain": [
       "A Jupyter Widget"
      ]
     },
     "metadata": {},
     "output_type": "display_data"
    }
   ],
   "source": [
    "method_dropown = Dropdown(description='Embedding', options=data_map.keys())\n",
    "\n",
    "n = 1000\n",
    "\n",
    "title_tmpl = '{} on MNIST Data'\n",
    "fig = plt.figure(title=title_tmpl.format(method_dropown.value),\n",
    "                 animation_duration=1000)\n",
    "fig.layout.width = '1000px'\n",
    "fig.layout.height = '700px'\n",
    "plt.scales(scales={'color': OrdinalColorScale(colors=CATEGORY10, min=0, max=9)})\n",
    "scatter = plt.scatter([], [], color=labels, stroke='black', default_size=64)\n",
    "\n",
    "def update(*args):\n",
    "    method = method_dropown.value\n",
    "    fig.title = title_tmpl.format(method)\n",
    "    X = data_map[method]\n",
    "    with scatter.hold_sync():\n",
    "        scatter.x = X[:, 0]\n",
    "        scatter.y = X[:, 1]\n",
    "\n",
    "method_dropown.observe(update, 'value')\n",
    "update()\n",
    "VBox([method_dropown, fig])"
   ]
  },
  {
   "cell_type": "code",
   "execution_count": null,
   "metadata": {
    "collapsed": true,
    "deletable": true,
    "editable": true
   },
   "outputs": [],
   "source": []
  }
 ],
 "metadata": {
  "kernelspec": {
   "display_name": "Python 3",
   "language": "python",
   "name": "python3"
  },
  "language_info": {
   "codemirror_mode": {
    "name": "ipython",
    "version": 3
   },
   "file_extension": ".py",
   "mimetype": "text/x-python",
   "name": "python",
   "nbconvert_exporter": "python",
   "pygments_lexer": "ipython3",
   "version": "3.6.0"
  }
 },
 "nbformat": 4,
 "nbformat_minor": 2
}
