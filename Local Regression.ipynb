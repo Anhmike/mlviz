{
 "cells": [
  {
   "cell_type": "code",
   "execution_count": null,
   "metadata": {
    "collapsed": true,
    "deletable": true,
    "editable": true
   },
   "outputs": [],
   "source": [
    "import numpy as np\n",
    "\n",
    "from ipywidgets import *\n",
    "from bqplot import LinearScale\n",
    "import bqplot.pyplot as plt\n",
    "\n",
    "import warnings\n",
    "warnings.simplefilter('ignore')"
   ]
  },
  {
   "cell_type": "code",
   "execution_count": null,
   "metadata": {
    "collapsed": true,
    "deletable": true,
    "editable": true
   },
   "outputs": [],
   "source": [
    "def gaussian(x_train, x_test, bw=1.):\n",
    "    u = (x_train - x_test[:, np.newaxis]) / bw\n",
    "    return (1./np.sqrt(2 * np.pi)) * np.exp(-.5 * u ** 2)\n",
    "\n",
    "def triangular(x_train, x_test, bw=1.):\n",
    "    abs_u = np.abs(x_train - x_test[:, np.newaxis])\n",
    "    return np.where(abs_u <= 1, 1 - abs_u, 0)\n",
    "\n",
    "def epanechnikov(x_train, x_test, bw=1.):\n",
    "    abs_u = np.abs(x_train - x_test[:, np.newaxis])\n",
    "    return np.where(abs_u <= 1, .75 * (1 - abs_u ** 2), 0)\n",
    "\n",
    "def cosine(x_train, x_test, bw=1.):\n",
    "    u = x_train - x_test[:, np.newaxis]\n",
    "    return np.where(np.abs(u) <= 1, (np.pi / 4) * np.cos((np.pi / 2) * u), 0)\n",
    "\n",
    "def sigmoid(x_train, x_test, bw=1.):\n",
    "    u = x_train - x_test[:, np.newaxis]\n",
    "    return (2 / np.pi) * (1 / (np.exp(u) + np.exp(-u)))\n",
    "\n",
    "kernels = {'Gaussian': gaussian,\n",
    "           'Traingular': triangular,\n",
    "           'Epanechnikov': epanechnikov,\n",
    "           'Cosine': cosine,\n",
    "           'Sigmoid': sigmoid}"
   ]
  },
  {
   "cell_type": "code",
   "execution_count": null,
   "metadata": {
    "collapsed": false,
    "deletable": true,
    "editable": true
   },
   "outputs": [],
   "source": [
    "def padded_val(x, eps=1e-3):\n",
    "    return np.ceil(x + eps) if x > 0 else np.floor(x - eps)\n",
    "\n",
    "def local_regression(x_train, y_train, x_test,\n",
    "                     kernel=gaussian, bw=1., order=0):\n",
    "    \"\"\"\n",
    "    computes local regression with weights coming from the kernel function\n",
    "    \"\"\"\n",
    "    # compute the weights using the kernel function\n",
    "    w = kernel(x_train, x_test, bw=bw)\n",
    "    \n",
    "    if order == 0: # weigted average\n",
    "        return np.dot(w, y_train) / np.sum(w, axis=1)\n",
    "    else: # weighted polyfit\n",
    "        y_test = np.empty_like(x_test)\n",
    "        for i, x0 in enumerate(x_test):\n",
    "            y_test[i] = np.polyval(np.polyfit(x_train, y_train, \n",
    "                                              w=w[i], deg=order), x0)\n",
    "        return y_test"
   ]
  },
  {
   "cell_type": "code",
   "execution_count": null,
   "metadata": {
    "collapsed": false,
    "deletable": true,
    "editable": true
   },
   "outputs": [],
   "source": [
    "# generate some train/test data\n",
    "x_train = np.linspace(-5, 5, 100)\n",
    "y_train = x_train ** 2 + np.random.randn(100) * 5\n",
    "x_test = np.linspace(-10, 10, 200)\n",
    "\n",
    "x0, x1 = np.min(x_train), np.max(x_train)\n",
    "y0, y1 = np.min(y_train), np.max(y_train)\n",
    "    \n",
    "xmin, xmax, ymin, ymax = [padded_val(x) for x in (x0, x1, y0, y1)]\n",
    "\n",
    "axes_options = {'x': {'label': 'X'},\n",
    "                'y': {'tick_format': '0.0f', 'label': 'Y'}}\n",
    "\n",
    "fig = plt.figure(animation_duration=1000,\n",
    "                 fig_margin=dict(top=60, left=40,\n",
    "                                 bottom=30, right=10))\n",
    "fig.layout.width = '800px'\n",
    "fig.layout.height = '550px'\n",
    "\n",
    "plt.scales(scales={'x': LinearScale(min=xmin, max=xmax),\n",
    "                   'y': LinearScale(min=ymin, max=ymax)})\n",
    "\n",
    "scatter = plt.scatter(x_train, y_train, axes_options=axes_options,\n",
    "                      colors=['red'], enable_move = True,\n",
    "                      interactions = {'click': 'add'})\n",
    "reg_line = plt.plot(x_test, [], 'g', stroke_width=5, opacities=[.5], interpolation='basis')\n",
    "\n",
    "# widgets for hyper params\n",
    "kernel_dropdown = Dropdown(description='Kernel', \n",
    "                           options=kernels,\n",
    "                           layout=Layout(width='200px'))\n",
    "\n",
    "bw_slider = FloatSlider(description='Band Width', \n",
    "                        min=.1, max=10, step=.1, value=3,\n",
    "                        continuous_update=False,\n",
    "                        readout_format='.1f',\n",
    "                        layout=Layout(width='290px'))\n",
    "\n",
    "order_slider = IntSlider(description='Order',\n",
    "                         min=0, max=10, step=1, value=0,\n",
    "                         continuous_update=False,\n",
    "                         layout=Layout(width='300px'))\n",
    "\n",
    "reset_button = Button(description='Reset Points', button_style='success')\n",
    "\n",
    "widgets_layout = VBox([kernel_dropdown, bw_slider, order_slider, reset_button])\n",
    "widgets_layout.layout.margin = '200px 0px 0px 0px'\n",
    "\n",
    "def update_reg_line(change):\n",
    "    kernel = kernel_dropdown.value\n",
    "    bw = bw_slider.value\n",
    "    order = order_slider.value\n",
    "    fig.title = 'Local regression(bw={}, polynomial_order={})'.format(bw, order)\n",
    "    try:\n",
    "        reg_line.y = local_regression(scatter.x,\n",
    "                                      scatter.y,\n",
    "                                      x_test, \n",
    "                                      kernel=kernel,\n",
    "                                      bw=bw, \n",
    "                                      order=order)\n",
    "    except Exception as e:\n",
    "        print(e)\n",
    "\n",
    "def reset_points(*args):\n",
    "    with scatter.hold_sync():\n",
    "        # hold_sync will send trait updates \n",
    "        # (x and y here) to front end in one trip\n",
    "        scatter.x = x_train\n",
    "        scatter.y = y_train\n",
    "\n",
    "reset_button.on_click(lambda btn: reset_points())\n",
    "\n",
    "# event handlers for widget traits\n",
    "for w in [kernel_dropdown, bw_slider, order_slider]:\n",
    "    w.observe(update_reg_line, 'value')\n",
    "    \n",
    "scatter.observe(update_reg_line, 'y')\n",
    "\n",
    "update_reg_line(None)\n",
    "HBox([fig, widgets_layout])"
   ]
  }
 ],
 "metadata": {
  "anaconda-cloud": {},
  "input_collapsed": false,
  "kernelspec": {
   "display_name": "Python [Root]",
   "language": "python",
   "name": "Python [Root]"
  },
  "language_info": {
   "codemirror_mode": {
    "name": "ipython",
    "version": 3
   },
   "file_extension": ".py",
   "mimetype": "text/x-python",
   "name": "python",
   "nbconvert_exporter": "python",
   "pygments_lexer": "ipython3",
   "version": "3.5.1"
  },
  "widgets": {
   "state": {
    "1846fe09e70f49ba8eb5654e0f3648e1": {
     "views": [
      {
       "cell_index": 1
      }
     ]
    }
   },
   "version": "2.0.5"
  }
 },
 "nbformat": 4,
 "nbformat_minor": 0
}
