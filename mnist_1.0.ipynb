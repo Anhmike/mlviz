{
 "cells": [
  {
   "cell_type": "code",
   "execution_count": 1,
   "metadata": {
    "collapsed": false,
    "deletable": true,
    "editable": true
   },
   "outputs": [],
   "source": [
    "import numpy as np\n",
    "import pandas as pd\n",
    "import tensorflow as tf\n",
    "tf.set_random_seed(0)\n",
    "\n",
    "from tensorflow.contrib.learn.python.learn.datasets.mnist import read_data_sets"
   ]
  },
  {
   "cell_type": "code",
   "execution_count": 2,
   "metadata": {
    "collapsed": false,
    "deletable": true,
    "editable": true
   },
   "outputs": [
    {
     "name": "stdout",
     "output_type": "stream",
     "text": [
      "Extracting data/train-images-idx3-ubyte.gz\n",
      "Extracting data/train-labels-idx1-ubyte.gz\n",
      "Extracting data/t10k-images-idx3-ubyte.gz\n",
      "Extracting data/t10k-labels-idx1-ubyte.gz\n"
     ]
    }
   ],
   "source": [
    "mnist = read_data_sets('data', one_hot=True, reshape=False, validation_size=0)"
   ]
  },
  {
   "cell_type": "code",
   "execution_count": 3,
   "metadata": {
    "collapsed": false,
    "deletable": true,
    "editable": true
   },
   "outputs": [],
   "source": [
    "X = tf.placeholder(tf.float32, [None, 28, 28, 1])\n",
    "Y_true = tf.placeholder(tf.float32, [None, 10])\n",
    "\n",
    "W = tf.Variable(tf.zeros([784, 10]))\n",
    "b = tf.Variable(tf.zeros([10]))"
   ]
  },
  {
   "cell_type": "code",
   "execution_count": 4,
   "metadata": {
    "collapsed": true,
    "deletable": true,
    "editable": true
   },
   "outputs": [],
   "source": [
    "X1 = tf.reshape(X, [-1, 784])"
   ]
  },
  {
   "cell_type": "code",
   "execution_count": 5,
   "metadata": {
    "collapsed": false,
    "deletable": true,
    "editable": true
   },
   "outputs": [],
   "source": [
    "# The model\n",
    "Y_pred = tf.nn.softmax(tf.matmul(X1, W) + b)\n",
    "\n",
    "# loss function\n",
    "cross_entropy = -tf.reduce_sum(Y_true * tf.log(Y_pred))"
   ]
  },
  {
   "cell_type": "code",
   "execution_count": 6,
   "metadata": {
    "collapsed": false,
    "deletable": true,
    "editable": true
   },
   "outputs": [],
   "source": [
    "is_correct = tf.equal(tf.argmax(Y_pred, 1), tf.argmax(Y_true, 1))\n",
    "accuracy = tf.reduce_mean(tf.cast(is_correct, tf.float32))"
   ]
  },
  {
   "cell_type": "code",
   "execution_count": 7,
   "metadata": {
    "collapsed": false,
    "deletable": true,
    "editable": true
   },
   "outputs": [],
   "source": [
    "learning_rate = 0.003\n",
    "optimizer = tf.train.AdamOptimizer(learning_rate)\n",
    "train_step = optimizer.minimize(cross_entropy)"
   ]
  },
  {
   "cell_type": "code",
   "execution_count": 8,
   "metadata": {
    "collapsed": true,
    "deletable": true,
    "editable": true
   },
   "outputs": [],
   "source": [
    "init = tf.global_variables_initializer()\n",
    "sess = tf.Session()\n",
    "sess.run(init)"
   ]
  },
  {
   "cell_type": "code",
   "execution_count": 9,
   "metadata": {
    "collapsed": false,
    "deletable": true,
    "editable": true
   },
   "outputs": [
    {
     "data": {
      "application/vnd.jupyter.widget-view+json": {
       "model_id": "fbed3fdd1b294eafa88a398392d3217c",
       "version_major": 2,
       "version_minor": 0
      },
      "text/plain": [
       "A Jupyter Widget"
      ]
     },
     "metadata": {},
     "output_type": "display_data"
    }
   ],
   "source": [
    "from ipywidgets import *\n",
    "import bqplot.pyplot as plt\n",
    "\n",
    "n = 2000\n",
    "acc_fig = plt.figure(title='Accuracy', legend_location='bottom-right')\n",
    "x = np.arange(1, n+1)\n",
    "axes_options = {'x': {'label': 'Iterations', 'num_ticks': 5},\n",
    "                'y': {'tick_format': '.0%'}}\n",
    "acc_plot = plt.plot(x, [], display_legend=True, \n",
    "                    labels=['Train', 'Test'], colors=['green', 'blue'],\n",
    "                    axes_options=axes_options)\n",
    "\n",
    "loss_fig = plt.figure(title='Loss')\n",
    "loss_plot = plt.plot(np.arange(1, n+1), [], display_legend=True, \n",
    "                     labels=['Train', 'Test'], \n",
    "                     colors=['green', 'blue'],\n",
    "                     axes_options={'x': {'label': 'Iterations', \n",
    "                                         'num_ticks': 5},\n",
    "                                   'y': {'tick_format': ','}})\n",
    "HBox([acc_fig, loss_fig])"
   ]
  },
  {
   "cell_type": "code",
   "execution_count": 10,
   "metadata": {
    "collapsed": false,
    "deletable": true,
    "editable": true
   },
   "outputs": [],
   "source": [
    "from time import sleep\n",
    "\n",
    "train_a = []\n",
    "test_a = []\n",
    "train_loss = []\n",
    "test_loss = []\n",
    "\n",
    "for i in range(2000):\n",
    "    # load batch of images and correct answers\n",
    "    batch_X, batch_Y = mnist.train.next_batch(100) \n",
    "    train_data = {X: batch_X, Y_true: batch_Y}\n",
    "\n",
    "    # train\n",
    "    sess.run(train_step, feed_dict=train_data)\n",
    "    a, c = sess.run([accuracy, cross_entropy], feed_dict=train_data)\n",
    "    train_a.append(a)\n",
    "    train_loss.append(c * 100)\n",
    "    \n",
    "    # run on test data\n",
    "    test_data = {X: mnist.test.images, Y_true: mnist.test.labels}\n",
    "    a, c = sess.run([accuracy, cross_entropy], feed_dict=test_data)\n",
    "    test_a.append(a)\n",
    "    test_loss.append(c)\n",
    "    \n",
    "    sleep(.001)\n",
    "    if i % 20 == 0:\n",
    "        acc_plot.y = [train_a, test_a]\n",
    "        loss_plot.y = [train_loss, test_loss]"
   ]
  },
  {
   "cell_type": "code",
   "execution_count": 11,
   "metadata": {
    "collapsed": true,
    "deletable": true,
    "editable": true
   },
   "outputs": [],
   "source": [
    "from sklearn.metrics import confusion_matrix"
   ]
  },
  {
   "cell_type": "code",
   "execution_count": 14,
   "metadata": {
    "collapsed": false,
    "deletable": true,
    "editable": true
   },
   "outputs": [],
   "source": [
    "# true test labels\n",
    "y_true = np.argmax(mnist.test.labels, 1)\n",
    "test_data = {X: mnist.test.images, Y_true: mnist.test.labels}\n",
    "\n",
    "# pred test labels\n",
    "y_pred = np.argmax(sess.run(Y_pred, feed_dict=test_data), 1)"
   ]
  },
  {
   "cell_type": "code",
   "execution_count": 15,
   "metadata": {
    "collapsed": true,
    "deletable": true,
    "editable": true
   },
   "outputs": [],
   "source": [
    "%matplotlib inline\n",
    "import matplotlib.pyplot as plt"
   ]
  },
  {
   "cell_type": "code",
   "execution_count": 16,
   "metadata": {
    "collapsed": false,
    "deletable": true,
    "editable": true
   },
   "outputs": [
    {
     "data": {
      "text/plain": [
       "<matplotlib.image.AxesImage at 0x136ec3d68>"
      ]
     },
     "execution_count": 16,
     "metadata": {},
     "output_type": "execute_result"
    },
    {
     "data": {
      "image/png": "[encoded data removed]",
      "text/plain": [
       "<matplotlib.figure.Figure at 0x136e3eb70>"
      ]
     },
     "metadata": {},
     "output_type": "display_data"
    }
   ],
   "source": [
    "plt.imshow(np.squeeze(mnist.test.images[1]), cmap=plt.cm.binary)"
   ]
  },
  {
   "cell_type": "code",
   "execution_count": 17,
   "metadata": {
    "collapsed": false,
    "deletable": true,
    "editable": true
   },
   "outputs": [
    {
     "data": {
      "text/plain": [
       "array([[ 956,    0,    0,    2,    0,    6,   10,    3,    2,    1],\n",
       "       [   0, 1114,    4,    1,    0,    2,    4,    2,    8,    0],\n",
       "       [   3,    6,  941,   17,   14,    3,   14,   10,   20,    4],\n",
       "       [   3,    0,   26,  909,    0,   25,    4,   11,   21,   11],\n",
       "       [   1,    1,    2,    1,  913,    0,   13,    3,    9,   39],\n",
       "       [   8,    3,    3,   26,    9,  789,   16,    6,   25,    7],\n",
       "       [   8,    3,    5,    1,    8,   13,  917,    2,    1,    0],\n",
       "       [   1,    5,   23,    7,    5,    0,    0,  949,    2,   36],\n",
       "       [   5,   10,    9,   22,    9,   28,   13,   14,  854,   10],\n",
       "       [   9,    7,    1,    9,   27,    7,    0,   26,    4,  919]])"
      ]
     },
     "execution_count": 17,
     "metadata": {},
     "output_type": "execute_result"
    }
   ],
   "source": [
    "conf_mat = confusion_matrix(y_true, y_pred)\n",
    "conf_mat"
   ]
  },
  {
   "cell_type": "code",
   "execution_count": 18,
   "metadata": {
    "collapsed": false,
    "deletable": true,
    "editable": true
   },
   "outputs": [],
   "source": [
    "from bqplot import *\n",
    "\n",
    "class ConfusionMatrix(Figure):\n",
    "    def __init__(self, *args, **kwargs):\n",
    "        self.conf_mat = kwargs['confusion_matrix']\n",
    "        self.labels = kwargs['labels']\n",
    "        row_scale = OrdinalScale(reverse=True)\n",
    "        col_scale = OrdinalScale()\n",
    "        color_scale = ColorScale(scheme='Greens')\n",
    "        row_axis = Axis(scale=row_scale, orientation='vertical', label='Actual')\n",
    "        col_axis = Axis(scale=col_scale, label='Predicted', side='top')\n",
    "        self.conf_mat_grid = GridHeatMap(\n",
    "            column=self.labels,\n",
    "            row=self.labels,\n",
    "            color=(self.conf_mat ** .3),\n",
    "            scales={'row': row_scale, 'column': col_scale, 'color': color_scale},\n",
    "            interactions={'click': 'select'},\n",
    "            anchor_style={'stroke': 'red', 'stroke-width': 3},\n",
    "            selected_style={'stroke': 'red'})\n",
    "\n",
    "        n = len(self.labels)\n",
    "        y, x, text = zip(*[(self.labels[i],\n",
    "                            self.labels[j],\n",
    "                            str(self.conf_mat[i, j])) for i in range(n) for j in range(n)])\n",
    "\n",
    "        self.grid_labels = Label(x=x, y=y, text=text,\n",
    "                                 scales={'x': col_scale, \n",
    "                                         'y': row_scale},\n",
    "                                 font_size=16,\n",
    "                                 align='middle',\n",
    "                                 colors=['black'])\n",
    "\n",
    "        # self.title = 'Confusion Matrix'\n",
    "        self.marks = [self.conf_mat_grid, self.grid_labels]\n",
    "        self.padding_y = 0.0\n",
    "        self.axes = [row_axis, col_axis]\n",
    "        self.fig_margin = dict(left=80, top=80, bottom=40, right=40)\n",
    "        self.layout.width = '460px'\n",
    "        self.layout.height = '400px'\n",
    "        \n",
    "        super(ConfusionMatrix, self).__init__(*args, **kwargs)"
   ]
  },
  {
   "cell_type": "code",
   "execution_count": 19,
   "metadata": {
    "collapsed": false,
    "deletable": true,
    "editable": true
   },
   "outputs": [
    {
     "data": {
      "application/vnd.jupyter.widget-view+json": {
       "model_id": "70b015b1146c48e796e34224a0e32bc8",
       "version_major": 2,
       "version_minor": 0
      },
      "text/plain": [
       "A Jupyter Widget"
      ]
     },
     "metadata": {},
     "output_type": "display_data"
    }
   ],
   "source": [
    "cm = ConfusionMatrix(confusion_matrix=conf_mat, labels=np.arange(10))\n",
    "cm"
   ]
  },
  {
   "cell_type": "code",
   "execution_count": null,
   "metadata": {
    "collapsed": true
   },
   "outputs": [],
   "source": []
  }
 ],
 "metadata": {
  "kernelspec": {
   "display_name": "Python 3",
   "language": "python",
   "name": "python3"
  },
  "language_info": {
   "codemirror_mode": {
    "name": "ipython",
    "version": 3
   },
   "file_extension": ".py",
   "mimetype": "text/x-python",
   "name": "python",
   "nbconvert_exporter": "python",
   "pygments_lexer": "ipython3",
   "version": "3.6.0"
  }
 },
 "nbformat": 4,
 "nbformat_minor": 2
}
