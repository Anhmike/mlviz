{
 "cells": [
  {
   "cell_type": "code",
   "execution_count": 1,
   "metadata": {
    "collapsed": true,
    "deletable": true,
    "editable": true
   },
   "outputs": [],
   "source": [
    "from time import sleep\n",
    "\n",
    "import numpy as np\n",
    "\n",
    "from ipywidgets import *\n",
    "import bqplot.pyplot as plt\n",
    "from bqplot import Toolbar"
   ]
  },
  {
   "cell_type": "code",
   "execution_count": 2,
   "metadata": {
    "collapsed": true,
    "deletable": true,
    "editable": true
   },
   "outputs": [],
   "source": [
    "f = lambda x: np.exp(-x) * np.sin(5 * x)\n",
    "df = lambda x: -np.exp(-x) * np.sin(5 * x) + 5 * np.cos(5 *x) * np.exp(-x)"
   ]
  },
  {
   "cell_type": "code",
   "execution_count": 3,
   "metadata": {
    "collapsed": true,
    "deletable": true,
    "editable": true
   },
   "outputs": [],
   "source": [
    "x = np.linspace(0.5, 2.5, 500)\n",
    "y = f(x)"
   ]
  },
  {
   "cell_type": "code",
   "execution_count": 4,
   "metadata": {
    "collapsed": false,
    "deletable": true,
    "editable": true
   },
   "outputs": [],
   "source": [
    "txt_layout = Layout(width='150px')\n",
    "x0_box = FloatText(description='x0', layout=txt_layout, value=2.4)\n",
    "eta_box = FloatText(description='Learning Rate', layout=txt_layout, value=.1)\n",
    "\n",
    "go_btn = Button(description='GO', button_style='success', layout=Layout(width='50px'))\n",
    "\n",
    "sol_lbl_tmpl = '$x = {:.4f}$'\n",
    "sol_lbl = Label()\n",
    "sol_lbl.layout.width = '300px'\n",
    "\n",
    "# plot of curve and solution\n",
    "fig_layout = Layout(width='1100px', height='700px')\n",
    "fig = plt.figure(layout=fig_layout, title='Gradient Descent', display_toolbar=True)\n",
    "fig.pyplot = Toolbar(figure=fig)\n",
    "\n",
    "curve = plt.plot(x, y, 'y', stroke_width=1)\n",
    "sol_path = plt.plot([], [], colors=['#ccc'], opacities=[.7])\n",
    "sol_points = plt.plot([], [], 'mo', default_size=20)\n",
    "\n",
    "final_fig = VBox([fig, fig.pyplot])"
   ]
  },
  {
   "cell_type": "code",
   "execution_count": 5,
   "metadata": {
    "collapsed": false,
    "deletable": true,
    "editable": true
   },
   "outputs": [],
   "source": [
    "def update_sol_path(x, y):\n",
    "    with sol_path.hold_sync():\n",
    "        sol_path.x = x\n",
    "        sol_path.y = y\n",
    "    \n",
    "    with sol_points.hold_sync():\n",
    "        sol_points.x = x\n",
    "        sol_points.y = y"
   ]
  },
  {
   "cell_type": "code",
   "execution_count": 6,
   "metadata": {
    "collapsed": false,
    "deletable": true,
    "editable": true
   },
   "outputs": [],
   "source": [
    "def gradient_descent(x0, f, df, eta=.1, tol=1e-6, num_iters=20):\n",
    "    x = [x0]\n",
    "    i = 0\n",
    "    \n",
    "    while i < num_iters:\n",
    "        x_prev = x[-1]\n",
    "        grad = df(x_prev)\n",
    "        x_curr = x_prev - eta * grad\n",
    "        x.append(x_curr)        \n",
    "        sleep(.5)\n",
    "        \n",
    "        update_sol_path(x, [f(i) for i in x])\n",
    "        \n",
    "        if np.abs(x_curr - x_prev) < tol:\n",
    "            break\n",
    "        i += 1"
   ]
  },
  {
   "cell_type": "code",
   "execution_count": 8,
   "metadata": {
    "collapsed": false,
    "deletable": true,
    "editable": true
   },
   "outputs": [
    {
     "data": {
      "application/vnd.jupyter.widget-view+json": {
       "model_id": "28ed5c9b2aab42009ddaf7787893ed50"
      }
     },
     "metadata": {},
     "output_type": "display_data"
    }
   ],
   "source": [
    "def optimize():\n",
    "    f.marks = [curve]\n",
    "    gradient_descent(x0_box.value, f, df, eta=eta_box.value)\n",
    "    \n",
    "go_btn.on_click(lambda btn: optimize())\n",
    "\n",
    "HBox([final_fig, VBox([x0_box, eta_box, go_btn, sol_lbl])])"
   ]
  }
 ],
 "metadata": {
  "kernelspec": {
   "display_name": "Python 3 (trusted by ccherukuri)",
   "language": "python",
   "name": "python3_unsandboxed_ccherukuri"
  },
  "language_info": {
   "codemirror_mode": {
    "name": "ipython",
    "version": 3
   },
   "file_extension": ".py",
   "mimetype": "text/x-python",
   "name": "python",
   "nbconvert_exporter": "python",
   "pygments_lexer": "ipython3",
   "version": "3.5.5"
  }
 },
 "nbformat": 4,
 "nbformat_minor": 0
}
